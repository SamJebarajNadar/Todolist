{
 "cells": [
  {
   "cell_type": "markdown",
   "id": "bound-accounting",
   "metadata": {},
   "source": [
    "#### Main link : https://youtu.be/VMP1oQOxfM0?list=PLoXHV7V2UtE8Cv_g0Ed-zuY8X7gxSe5BI\n"
   ]
  },
  {
   "cell_type": "markdown",
   "id": "spanish-training",
   "metadata": {},
   "source": [
    "# 1-Creating a simple window using tkinter"
   ]
  },
  {
   "cell_type": "markdown",
   "id": "complimentary-drunk",
   "metadata": {},
   "source": [
    "### 1.1-Importing tkinter"
   ]
  },
  {
   "cell_type": "code",
   "execution_count": 16,
   "id": "patient-anchor",
   "metadata": {},
   "outputs": [],
   "source": [
    "import tkinter\n",
    "window=tkinter.Tk()"
   ]
  },
  {
   "cell_type": "markdown",
   "id": "alpine-floating",
   "metadata": {},
   "source": [
    "### 1.2-Rename title of the window"
   ]
  },
  {
   "cell_type": "code",
   "execution_count": 17,
   "id": "seventh-butler",
   "metadata": {},
   "outputs": [
    {
     "data": {
      "text/plain": [
       "''"
      ]
     },
     "execution_count": 17,
     "metadata": {},
     "output_type": "execute_result"
    }
   ],
   "source": [
    "window.title(\"GUI\")"
   ]
  },
  {
   "cell_type": "markdown",
   "id": "accomplished-scope",
   "metadata": {},
   "source": [
    "### 1.3-Label\n",
    "1.Label is used for adding contents inside the window<br>\n",
    "2.Pack is used to show the object in window"
   ]
  },
  {
   "cell_type": "code",
   "execution_count": 18,
   "id": "every-affairs",
   "metadata": {},
   "outputs": [],
   "source": [
    "label=tkinter.Label(window, text=\"Hello World\").pack()"
   ]
  },
  {
   "cell_type": "markdown",
   "id": "numeric-singapore",
   "metadata": {},
   "source": [
    "### 1.4-Main Event loop\n",
    "This keeps on running the program until we manually close by clicking on the close window"
   ]
  },
  {
   "cell_type": "code",
   "execution_count": 19,
   "id": "occupational-dating",
   "metadata": {},
   "outputs": [],
   "source": [
    "window.mainloop()"
   ]
  },
  {
   "cell_type": "markdown",
   "id": "academic-kernel",
   "metadata": {},
   "source": [
    "### 1.5-Skeletion for simple window"
   ]
  },
  {
   "cell_type": "code",
   "execution_count": null,
   "id": "rural-arkansas",
   "metadata": {},
   "outputs": [],
   "source": [
    "import tkinter\n",
    "window=tkinter.Tk()\n",
    "window.title(\"Dropdown box Test\")\n",
    "\n",
    "#  What you want to add will come here\n",
    "\n",
    "window.geometry(\"500x500\")\n",
    "window.mainloop()\n"
   ]
  },
  {
   "cell_type": "markdown",
   "id": "saving-chassis",
   "metadata": {},
   "source": [
    "#### Slightly different "
   ]
  },
  {
   "cell_type": "code",
   "execution_count": 17,
   "id": "reliable-brave",
   "metadata": {},
   "outputs": [],
   "source": [
    "import tkinter \n",
    "from tkinter import ttk \n",
    "window=tkinter.Tk()\n",
    "window.title(\"Dropdown box Test\")\n",
    "\n",
    "#  What you want to add will come here\n",
    "\n",
    "window.geometry(\"500x500\")\n",
    "window.mainloop()\n"
   ]
  },
  {
   "cell_type": "markdown",
   "id": "rocky-sitting",
   "metadata": {},
   "source": [
    "# 2-Widgets"
   ]
  },
  {
   "cell_type": "markdown",
   "id": "suitable-communication",
   "metadata": {},
   "source": [
    "### 2.1-Label"
   ]
  },
  {
   "cell_type": "code",
   "execution_count": 47,
   "id": "defensive-expert",
   "metadata": {},
   "outputs": [],
   "source": [
    "import tkinter\n",
    "window=tkinter.Tk()\n",
    "window.title(\"Label Test\")\n",
    "\n",
    "l1=tkinter.Label(window, text='sam' ,font=(\"Calibri\" ,50))\n",
    "l1.grid(column=0,row=0)\n",
    "\n",
    "# Size of the window\n",
    "window.geometry(\"500x500\")\n",
    "window.mainloop()"
   ]
  },
  {
   "cell_type": "markdown",
   "id": "laden-punishment",
   "metadata": {},
   "source": [
    "### 2.2-Button"
   ]
  },
  {
   "cell_type": "markdown",
   "id": "entertaining-likelihood",
   "metadata": {},
   "source": [
    "#### 2.21- Basic Button Creation"
   ]
  },
  {
   "cell_type": "code",
   "execution_count": 70,
   "id": "breeding-amendment",
   "metadata": {},
   "outputs": [],
   "source": [
    "import tkinter\n",
    "window=tkinter.Tk()\n",
    "window.title(\"Button Test\")\n",
    "\n",
    "bt=tkinter.Button(window,text='Enter',bg=\"Black\",fg='White')\n",
    "bt.grid(column=2,row=0)\n",
    "\n",
    "window.geometry(\"500x500\")\n",
    "window.mainloop()"
   ]
  },
  {
   "cell_type": "markdown",
   "id": "apparent-contact",
   "metadata": {},
   "source": [
    "#### 2.22-Clearing concept of column and row(Personal reference)"
   ]
  },
  {
   "cell_type": "code",
   "execution_count": 65,
   "id": "elect-control",
   "metadata": {},
   "outputs": [],
   "source": [
    "# import tkinter\n",
    "# window=tkinter.Tk()\n",
    "# window.title(\"Button Test\")\n",
    "\n",
    "# l1=tkinter.Label(window, text='Test-lable')\n",
    "# # row=3 this gives us three blank spaces from the top\n",
    "# l1.grid(column=0,row=3)\n",
    "\n",
    "\n",
    "# bt=tkinter.Button(window,text='Enter')\n",
    "# # column=2 this gives us three blank spaces from the left\n",
    "# bt.grid(column=10,row=0)\n",
    "\n",
    "# window.geometry(\"500x500\")\n",
    "# window.mainloop()"
   ]
  },
  {
   "cell_type": "markdown",
   "id": "sweet-night",
   "metadata": {},
   "source": [
    "#### 2.23-Wiring button with the function\n",
    "This has some unresolved error"
   ]
  },
  {
   "cell_type": "code",
   "execution_count": 5,
   "id": "departmental-corrections",
   "metadata": {},
   "outputs": [],
   "source": [
    "# Function Defintion\n",
    "\n",
    "\n",
    "import tkinter\n",
    "from tkinter import messagebox as mb\n",
    "window=tkinter.Tk()\n",
    "window.title(\"Button Test\")\n",
    "\n",
    "\n",
    "def clicked():\n",
    "    l1=tkinter.Label(window, text='Test-lable')\n",
    "    #The message box is discused below     \n",
    "    mb.showinfo('Alert!!!!!','Enter button was clicked')\n",
    "# Function calllng\n",
    "bt=tkinter.Button(window,text='Enter',bg=\"Black\",fg='White',command=clicked)\n",
    "bt.grid(column=1,row=0)\n",
    "\n",
    "\n",
    "window.geometry(\"500x500\")\n",
    "window.mainloop()\n"
   ]
  },
  {
   "cell_type": "markdown",
   "id": "invalid-luxury",
   "metadata": {},
   "source": [
    "### 2.3-Combobox"
   ]
  },
  {
   "cell_type": "code",
   "execution_count": 14,
   "id": "stuck-hepatitis",
   "metadata": {},
   "outputs": [],
   "source": [
    "import tkinter \n",
    "from tkinter import ttk \n",
    "window=tkinter.Tk()\n",
    "window.title(\"Dropdown box Test\")\n",
    "\n",
    "dropdown=ttk.Combobox(window)\n",
    "dropdown['values']=(1,2,3,4,\"Sam\",'zeon')\n",
    "dropdown.current(3)\n",
    "dropdown.grid(columns=1,rows=1)\n",
    "\n",
    "\n",
    "window.geometry(\"500x500\")\n",
    "window.mainloop()\n"
   ]
  },
  {
   "cell_type": "markdown",
   "id": "banner-joining",
   "metadata": {},
   "source": [
    "### 2.4-Checkbutton"
   ]
  },
  {
   "cell_type": "code",
   "execution_count": 26,
   "id": "tough-independence",
   "metadata": {},
   "outputs": [],
   "source": [
    "import tkinter \n",
    "# from tkinter import ttk \n",
    "window=tkinter.Tk()\n",
    "window.title(\"Dropdown box Test\")\n",
    "\n",
    "\n",
    "# Boolean variable will have True and False state\n",
    "chk_state=tkinter.BooleanVar()\n",
    "# Setting either True or False\n",
    "# If it is True then it is already checked of ,else not checked\n",
    "chk_state.set(True)\n",
    "chk=Checkbutton(window,text='Select',var=chk_state)\n",
    "chk.grid(columns=1,rows=1)\n",
    "\n",
    "\n",
    "window.geometry(\"500x500\")\n",
    "window.mainloop()\n"
   ]
  },
  {
   "cell_type": "markdown",
   "id": "subtle-claim",
   "metadata": {},
   "source": [
    "### 2.5-Radio Button"
   ]
  },
  {
   "cell_type": "code",
   "execution_count": 37,
   "id": "absolute-wedding",
   "metadata": {},
   "outputs": [],
   "source": [
    "import tkinter\n",
    "window=tkinter.Tk()\n",
    "window.title(\"Dropdown box Test\")\n",
    "\n",
    "rad1=Radiobutton(window,text='FE',value=1)\n",
    "rad2=Radiobutton(window,text='SE',value=2)\n",
    "rad3=Radiobutton(window,text='TE',value=3)\n",
    "rad1.grid(columns=1,rows=1)\n",
    "rad2.grid(columns=2,rows=2)\n",
    "rad3.grid(columns=3,rows=3)\n",
    "\n",
    "\n",
    "window.geometry(\"500x500\")\n",
    "window.mainloop()\n"
   ]
  },
  {
   "cell_type": "markdown",
   "id": "homeless-killing",
   "metadata": {},
   "source": [
    "### 2.6-Scrolled Text"
   ]
  },
  {
   "cell_type": "code",
   "execution_count": 3,
   "id": "color-clark",
   "metadata": {},
   "outputs": [],
   "source": [
    "import tkinter\n",
    "from tkinter import scrolledtext as st\n",
    "window=tkinter.Tk()\n",
    "window.title(\"Dropdown box Test\")\n",
    "\n",
    "# txt=st.ScrolledText(window,width=40,height=10)\n",
    "# txt.insert(tkinter.INSERT,\"sam\")\n",
    "\n",
    "\n",
    "text_area = st.ScrolledText(window, \n",
    "                            width = 30,  \n",
    "                            height = 8,  \n",
    "                            font = (\"Times New Roman\", \n",
    "                                    15)) \n",
    "  \n",
    "text_area.grid(column = 0, pady = 10, padx = 10) \n",
    "  \n",
    "# Inserting Text which is read only \n",
    "text_area.insert(tkinter.INSERT, \n",
    "\"\"\"\\ \n",
    "This is a scrolledtext widget to make tkinter text read only. \n",
    "Hi \n",
    "Geeks !!! \n",
    "Geeks !!! \n",
    "Geeks !!!  \n",
    "Geeks !!! \n",
    "Geeks !!! \n",
    "Geeks !!! \n",
    "Geeks !!! \n",
    "\"\"\") \n",
    "\n",
    "window.geometry(\"500x500\")\n",
    "window.mainloop()\n"
   ]
  },
  {
   "cell_type": "markdown",
   "id": "adjustable-spanish",
   "metadata": {},
   "source": [
    "### 2.7-Message Box"
   ]
  },
  {
   "cell_type": "code",
   "execution_count": 1,
   "id": "cardiovascular-patio",
   "metadata": {},
   "outputs": [],
   "source": [
    "import tkinter\n",
    "from tkinter import messagebox as mb\n",
    "window=tkinter.Tk()\n",
    "window.title(\"Message Box\")\n",
    "\n",
    "mb.showinfo('Message Title','Message Content')\n",
    "\n",
    "window.geometry(\"500x500\")\n",
    "window.mainloop()\n"
   ]
  },
  {
   "cell_type": "markdown",
   "id": "solar-match",
   "metadata": {},
   "source": [
    "### 2.8-SpinBox Widget"
   ]
  },
  {
   "cell_type": "code",
   "execution_count": 25,
   "id": "integral-digest",
   "metadata": {},
   "outputs": [],
   "source": [
    "import tkinter\n",
    "from tkinter import *\n",
    "window=tkinter.Tk()\n",
    "window.title(\"Message Box\")\n",
    "\n",
    "# Width is the width of the spinbox\n",
    "spin=Spinbox(window,from_=0,to = 100,width=20)\n",
    "spin.pack()  \n",
    "\n",
    "window.geometry(\"500x500\")\n",
    "window.mainloop()\n"
   ]
  },
  {
   "cell_type": "markdown",
   "id": "coupled-lottery",
   "metadata": {},
   "source": [
    "# 3-Geometry Management\n",
    "<b>1.pack()-</b>It organizes widgets in the block ,which mean it occupies the entire available width<br><br>\n",
    "<b>2.grid()-</b>It organizes the widgets in table-like structure<br><br>\n",
    "<b>3.place()-</b>Used to place widgets in specific place"
   ]
  },
  {
   "cell_type": "markdown",
   "id": "realistic-vietnam",
   "metadata": {},
   "source": [
    "# 4-Assignments"
   ]
  },
  {
   "cell_type": "markdown",
   "id": "knowing-genre",
   "metadata": {},
   "source": [
    "### 4.1-Binding functions"
   ]
  },
  {
   "cell_type": "code",
   "execution_count": 26,
   "id": "difficult-development",
   "metadata": {},
   "outputs": [],
   "source": [
    "import tkinter as tk\n",
    "window=tk.Tk()\n",
    "window.title('Practice.py')\n",
    "\n",
    "def clicked():\n",
    "    l1=tk.Label(window,text='Sup boys').pack()\n",
    "b1=tk.Button(window,text='Click Here',command=clicked)\n",
    "# Bind\n",
    "window.bind('<Button-1>',clicked())\n",
    "# b1.grid(column=2,row=2)\n",
    "b1.pack()\n",
    "\n",
    "window.geometry('400x400')\n",
    "window.mainloop()"
   ]
  },
  {
   "cell_type": "markdown",
   "id": "objective-reset",
   "metadata": {},
   "source": [
    "### 4.2-Event handling"
   ]
  },
  {
   "cell_type": "code",
   "execution_count": 36,
   "id": "ambient-absorption",
   "metadata": {},
   "outputs": [],
   "source": [
    "import tkinter as tk\n",
    "window=tk.Tk()\n",
    "window.title('Practice.py')\n",
    "\n",
    "\n",
    "def left_click(event):\n",
    "    l1=tk.Label(window,text='Left Click')\n",
    "    l1.pack()\n",
    "\n",
    "def middle_click(event):\n",
    "    l2=tk.Label(window,text='Middle Click')\n",
    "    l2.pack()\n",
    "    \n",
    "def right_click(event):\n",
    "    l3=tk.Label(window,text='Right Click')\n",
    "    l3.pack()\n",
    "\n",
    "    \n",
    "# Bind\n",
    "window.bind('<Button-1>',left_click)\n",
    "window.bind('<Button-2>',middle_click)\n",
    "window.bind('<Button-3>',right_click)\n",
    "\n",
    "\n",
    "\n",
    "window.geometry('400x400')\n",
    "window.mainloop()"
   ]
  },
  {
   "cell_type": "markdown",
   "id": "dangerous-initial",
   "metadata": {},
   "source": [
    "### 4.3-Inserting Images and Icons"
   ]
  },
  {
   "cell_type": "code",
   "execution_count": null,
   "id": "disciplinary-america",
   "metadata": {},
   "outputs": [],
   "source": [
    "import tkinter as tk\n",
    "# from PIL import Image\n",
    "# from PIL import ImageTk\n",
    "window=tk.Tk()\n",
    "window.title('Image and Icons')\n",
    "\n",
    "# image = Image.open(\"E:\\SAM_DOWNLOADS\\Sam.jpg\")\n",
    "# image = image.resize((20, 20))\n",
    "# image = ImageTk.PhotoImage(image)\n",
    "\n",
    "icon=tk.PhotoImage(file=\"E:\\SAM_DOWNLOADS\\Sam.png\")\n",
    "label=tk.Label(window,image=icon)\n",
    "label.pack()\n",
    "\n",
    "window.mainloop()"
   ]
  },
  {
   "cell_type": "code",
   "execution_count": null,
   "id": "cooked-chart",
   "metadata": {},
   "outputs": [],
   "source": []
  }
 ],
 "metadata": {
  "kernelspec": {
   "display_name": "Python 3",
   "language": "python",
   "name": "python3"
  },
  "language_info": {
   "codemirror_mode": {
    "name": "ipython",
    "version": 3
   },
   "file_extension": ".py",
   "mimetype": "text/x-python",
   "name": "python",
   "nbconvert_exporter": "python",
   "pygments_lexer": "ipython3",
   "version": "3.7.3"
  }
 },
 "nbformat": 4,
 "nbformat_minor": 5
}
